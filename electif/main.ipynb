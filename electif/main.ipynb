{
 "cells": [
  {
   "cell_type": "markdown",
   "id": "1b7d06a9-f799-4d32-8fd1-724b607f74f3",
   "metadata": {},
   "source": [
    "# Cool project"
   ]
  },
  {
   "cell_type": "markdown",
   "id": "cf411b74-ea7d-46e5-bfc6-3e568e81652c",
   "metadata": {},
   "source": [
    "AJOUTER PAGE DE GARDE (need)"
   ]
  },
  {
   "cell_type": "markdown",
   "id": "1399d03f-3db5-424c-9e66-6c379ec14fab",
   "metadata": {},
   "source": [
    "First import stuff & libraires"
   ]
  },
  {
   "cell_type": "code",
   "execution_count": 118,
   "id": "9ba67ff9-8e3a-4cda-8a43-02de080b3f31",
   "metadata": {},
   "outputs": [],
   "source": [
    "from dataclasses import dataclass\n",
    "from typing import Callable\n",
    "\n",
    "import pandas as pd\n",
    "import numpy as np\n",
    "from matplotlib import pyplot as plt\n",
    "import numpy.polynomial.polynomial as poly"
   ]
  },
  {
   "cell_type": "markdown",
   "id": "6981df11-e269-403c-85d1-147e65adf755",
   "metadata": {},
   "source": [
    "## Partie 1 : Statistiques Descriptives\n",
    "Initialisons un vecteur avec les points bidimensionnels donnés"
   ]
  },
  {
   "cell_type": "code",
   "execution_count": 213,
   "id": "6c5fb597-993f-41ba-b099-3a12236e8261",
   "metadata": {},
   "outputs": [
    {
     "data": {
      "text/html": [
       "<div>\n",
       "<style scoped>\n",
       "    .dataframe tbody tr th:only-of-type {\n",
       "        vertical-align: middle;\n",
       "    }\n",
       "\n",
       "    .dataframe tbody tr th {\n",
       "        vertical-align: top;\n",
       "    }\n",
       "\n",
       "    .dataframe thead th {\n",
       "        text-align: right;\n",
       "    }\n",
       "</style>\n",
       "<table border=\"1\" class=\"dataframe\">\n",
       "  <thead>\n",
       "    <tr style=\"text-align: right;\">\n",
       "      <th></th>\n",
       "      <th>x</th>\n",
       "      <th>y</th>\n",
       "    </tr>\n",
       "  </thead>\n",
       "  <tbody>\n",
       "    <tr>\n",
       "      <th>0</th>\n",
       "      <td>1</td>\n",
       "      <td>1</td>\n",
       "    </tr>\n",
       "    <tr>\n",
       "      <th>1</th>\n",
       "      <td>1</td>\n",
       "      <td>2</td>\n",
       "    </tr>\n",
       "    <tr>\n",
       "      <th>2</th>\n",
       "      <td>1</td>\n",
       "      <td>5</td>\n",
       "    </tr>\n",
       "    <tr>\n",
       "      <th>3</th>\n",
       "      <td>3</td>\n",
       "      <td>4</td>\n",
       "    </tr>\n",
       "    <tr>\n",
       "      <th>4</th>\n",
       "      <td>4</td>\n",
       "      <td>3</td>\n",
       "    </tr>\n",
       "    <tr>\n",
       "      <th>5</th>\n",
       "      <td>6</td>\n",
       "      <td>2</td>\n",
       "    </tr>\n",
       "    <tr>\n",
       "      <th>6</th>\n",
       "      <td>0</td>\n",
       "      <td>4</td>\n",
       "    </tr>\n",
       "  </tbody>\n",
       "</table>\n",
       "</div>"
      ],
      "text/plain": [
       "   x  y\n",
       "0  1  1\n",
       "1  1  2\n",
       "2  1  5\n",
       "3  3  4\n",
       "4  4  3\n",
       "5  6  2\n",
       "6  0  4"
      ]
     },
     "execution_count": 213,
     "metadata": {},
     "output_type": "execute_result"
    }
   ],
   "source": [
    "data = pd.DataFrame(\n",
    "    [\n",
    "        (1, 1),\n",
    "        (1, 2),\n",
    "        (1, 5),\n",
    "        (3, 4),\n",
    "        (4, 3),\n",
    "        (6, 2),\n",
    "        (0, 4)\n",
    "    ],\n",
    "    columns=['x', 'y']\n",
    ")\n",
    "data"
   ]
  },
  {
   "cell_type": "markdown",
   "id": "14a6950e-59a1-4ac4-b565-445aed3d7028",
   "metadata": {},
   "source": [
    "### 1. Calculs statistiques"
   ]
  },
  {
   "cell_type": "code",
   "execution_count": 3,
   "id": "4f8e8314-52db-4c91-9cef-1e9e3c006709",
   "metadata": {},
   "outputs": [],
   "source": [
    "def calculs_stats(df: pd.DataFrame) -> str:\n",
    "    '''Compute descriptive statistical data on a mono-dimensionnal array'''\n",
    "    \n",
    "    return f'''\\\n",
    "Moyenne: {np.mean(df):.3f}\n",
    "Médiane: {np.median(df)}\n",
    "Variance: {np.var(df):.3f}\n",
    "Écart-type: {np.std(df):.3f}\n",
    "\n",
    "Min: {(min_v := np.min(df))}\n",
    "Max: {(max_v := np.max(df))}\n",
    "\n",
    "Étendue: {max_v - min_v}\\\n",
    "'''"
   ]
  },
  {
   "cell_type": "markdown",
   "id": "e34cff9d-cf0c-4011-aae6-9917f9d65a40",
   "metadata": {},
   "source": [
    "On observe quelques statistiques descriptives pour x..."
   ]
  },
  {
   "cell_type": "code",
   "execution_count": 4,
   "id": "f80e1c8e-c671-4c41-b88e-e0452fd67040",
   "metadata": {},
   "outputs": [
    {
     "name": "stdout",
     "output_type": "stream",
     "text": [
      "Moyenne: 2.286\n",
      "Médiane: 1.0\n",
      "Variance: 3.918\n",
      "Écart-type: 1.979\n",
      "\n",
      "Min: 0\n",
      "Max: 6\n",
      "\n",
      "Étendue: 6\n"
     ]
    }
   ],
   "source": [
    "print(calculs_stats(data['x']))"
   ]
  },
  {
   "cell_type": "markdown",
   "id": "e32783d0-ac38-4f18-9f7d-d1268f5278a3",
   "metadata": {},
   "source": [
    "Puis pour y"
   ]
  },
  {
   "cell_type": "code",
   "execution_count": 5,
   "id": "31d11013-df6f-429e-8909-fb5340640752",
   "metadata": {},
   "outputs": [
    {
     "name": "stdout",
     "output_type": "stream",
     "text": [
      "Moyenne: 3.000\n",
      "Médiane: 3.0\n",
      "Variance: 1.714\n",
      "Écart-type: 1.309\n",
      "\n",
      "Min: 1\n",
      "Max: 5\n",
      "\n",
      "Étendue: 4\n"
     ]
    }
   ],
   "source": [
    "print(calculs_stats(data['y']))"
   ]
  },
  {
   "cell_type": "markdown",
   "id": "79610c1a-cba7-4e19-a6a0-be4582518b45",
   "metadata": {},
   "source": [
    "### 2. Visualisation"
   ]
  },
  {
   "cell_type": "code",
   "execution_count": 6,
   "id": "c0d96cff-60a3-4cc4-811c-3c133abf6f50",
   "metadata": {},
   "outputs": [
    {
     "data": {
      "image/png": "[encoded data removed]",
      "text/plain": [
       "<Figure size 640x480 with 1 Axes>"
      ]
     },
     "metadata": {},
     "output_type": "display_data"
    }
   ],
   "source": [
    "plt.scatter(data['x'], data['y'])\n",
    "plt.show()"
   ]
  },
  {
   "cell_type": "markdown",
   "id": "f093b4df-5823-4866-8843-8be9a2be7d2a",
   "metadata": {},
   "source": [
    "### 3. Interprétation"
   ]
  },
  {
   "cell_type": "markdown",
   "id": "555ac31b-5632-4281-b5d9-912eebca2041",
   "metadata": {},
   "source": [
    "idk"
   ]
  },
  {
   "cell_type": "markdown",
   "id": "45841ed6-0e1a-4a39-a7b5-27fb511cd6a2",
   "metadata": {},
   "source": [
    "## Partie 2 : Régression Linéaire Simple\n",
    "Nous allons explorer s'il existe une relation linéaire entre les coordonnées x et y des points.\n",
    "### 1. Calcul des Coefficients de Régression"
   ]
  },
  {
   "cell_type": "code",
   "execution_count": 7,
   "id": "700ec96d-0ff5-43f9-bb1f-7b60a4ea8560",
   "metadata": {},
   "outputs": [
    {
     "name": "stdout",
     "output_type": "stream",
     "text": [
      "b1 = -0.14583\n"
     ]
    }
   ],
   "source": [
    "x_mean = np.mean(data['x'])\n",
    "y_mean = np.mean(data['y'])\n",
    "\n",
    "b1_upper = np.sum((data['x'] - x_mean) * (data['y'] - y_mean))\n",
    "b1_lower = np.sum((data['x'] - x_mean) ** 2)\n",
    "b1 = b1_upper / b1_lower\n",
    "\n",
    "print(f'b1 = {b1:.5f}')"
   ]
  },
  {
   "cell_type": "code",
   "execution_count": 8,
   "id": "5bddfaeb-0fe3-43a3-8645-f07601884f14",
   "metadata": {},
   "outputs": [
    {
     "name": "stdout",
     "output_type": "stream",
     "text": [
      "b0 = 3.33333\n"
     ]
    }
   ],
   "source": [
    "b0 = y_mean - b1 * x_mean\n",
    "print(f'b0 = {b0:.5f}')"
   ]
  },
  {
   "cell_type": "markdown",
   "id": "8eb0910e-85bb-4259-be53-210eeed87f62",
   "metadata": {},
   "source": [
    "On peut comparer nos résultats à ceux de la librairie `numpy`"
   ]
  },
  {
   "cell_type": "code",
   "execution_count": 9,
   "id": "14261177-c6e7-457e-9e4b-bb90f4b31ddb",
   "metadata": {},
   "outputs": [
    {
     "name": "stdout",
     "output_type": "stream",
     "text": [
      "b1 = -0.14583 et b0 = 3.33333\n"
     ]
    }
   ],
   "source": [
    "b0, b1 = poly.polyfit(data['x'], data['y'], 1)\n",
    "\n",
    "print(f'b1 = {b1:.5f} et b0 = {b0:.5f}')"
   ]
  },
  {
   "cell_type": "markdown",
   "id": "11835a09-d984-4e82-b6a4-d4dafaf87ee8",
   "metadata": {},
   "source": [
    "On retrouve bien les mêmes résultats\n",
    "### 2. Visualisation de la Droite de Régression"
   ]
  },
  {
   "cell_type": "code",
   "execution_count": 10,
   "id": "c1642562-f853-485e-a936-6ac55463d500",
   "metadata": {},
   "outputs": [
    {
     "data": {
      "image/png": "[encoded data removed]",
      "text/plain": [
       "<Figure size 640x480 with 1 Axes>"
      ]
     },
     "metadata": {},
     "output_type": "display_data"
    }
   ],
   "source": [
    "y_regr = b0 + b1 * data['x']\n",
    "\n",
    "plt.scatter(data['x'], data['y'])\n",
    "plt.plot(data['x'], y_regr, color='red')\n",
    "plt.show()"
   ]
  },
  {
   "cell_type": "markdown",
   "id": "40305cc7-4d3d-4dab-be5a-f2e324788c8c",
   "metadata": {},
   "source": [
    "### 3. Coefficient de Détermination R²"
   ]
  },
  {
   "cell_type": "code",
   "execution_count": 11,
   "id": "ea03ec3c-6492-4399-a980-60a2ddcf10ad",
   "metadata": {},
   "outputs": [],
   "source": [
    "SCE = np.sum((data['y'] - y_regr) ** 2)\n",
    "SCT = np.sum((data['y'] - y_mean) ** 2)\n",
    "SCR = np.sum((y_regr - y_mean) ** 2)"
   ]
  },
  {
   "cell_type": "code",
   "execution_count": 12,
   "id": "4faa7c72-1763-412a-9697-b75209301617",
   "metadata": {},
   "outputs": [
    {
     "name": "stdout",
     "output_type": "stream",
     "text": [
      "R_2 = 0.04861\n"
     ]
    }
   ],
   "source": [
    "R_2 = 1 - SCE / SCT\n",
    "print(f'R_2 = {R_2:.5f}')"
   ]
  },
  {
   "cell_type": "markdown",
   "id": "faf65784-9bba-4cf3-b795-78e45bf313a0",
   "metadata": {},
   "source": [
    "On vérifie aussi que $R^2$ est identique pour la second formule"
   ]
  },
  {
   "cell_type": "code",
   "execution_count": 13,
   "id": "fd198dee-9986-479c-98dc-53c19b82252f",
   "metadata": {},
   "outputs": [
    {
     "name": "stdout",
     "output_type": "stream",
     "text": [
      "SCR/SCT = 0.04861\n"
     ]
    }
   ],
   "source": [
    "print(f'SCR/SCT = {SCR / SCT:.5f}')"
   ]
  },
  {
   "cell_type": "markdown",
   "id": "2ba9f4b0-b25a-45ac-bd76-8b2975adb08c",
   "metadata": {},
   "source": [
    "On obtient bel et bien la même chose"
   ]
  },
  {
   "cell_type": "code",
   "execution_count": 14,
   "id": "fa542c47-55df-4149-9444-68c69b9f9340",
   "metadata": {},
   "outputs": [
    {
     "name": "stdout",
     "output_type": "stream",
     "text": [
      "R_2 = 0.04861\n"
     ]
    }
   ],
   "source": [
    "R = np.corrcoef(data['x'], data['y'])[0,1]\n",
    "print(f'R_2 = {R*R:.5f}')"
   ]
  },
  {
   "cell_type": "markdown",
   "id": "d72d631b-4bd8-40a0-adb3-41ae55c1b27f",
   "metadata": {},
   "source": [
    "Et la librairie `numpy` nous retourne le même résultat via [corrcoef](https://numpy.org/doc/2.2/reference/generated/numpy.corrcoef.html)"
   ]
  },
  {
   "cell_type": "markdown",
   "id": "5dc9be52-e7ad-449c-855b-0c4eb4bce5a5",
   "metadata": {},
   "source": [
    "## Partie 3 : Estimation de l'erreur en régression linéaire simple\n",
    "### 1. Résidus et somme des carrés des erreurs (SCE)"
   ]
  },
  {
   "cell_type": "code",
   "execution_count": 15,
   "id": "816bbd17-a303-4982-8e8d-b7667f50150f",
   "metadata": {},
   "outputs": [
    {
     "name": "stdout",
     "output_type": "stream",
     "text": [
      "SCE = 11.41667\n"
     ]
    }
   ],
   "source": [
    "SCE = np.sum((data['y'] - y_regr) ** 2)\n",
    "print(f'SCE = {SCE:.5f}')"
   ]
  },
  {
   "cell_type": "markdown",
   "id": "260bc013-5da2-4af2-b3b8-7bfc50aace84",
   "metadata": {},
   "source": [
    "Blabla"
   ]
  },
  {
   "cell_type": "markdown",
   "id": "21f91ccb-8e02-4a14-9f23-6dd7c43ad4fb",
   "metadata": {},
   "source": [
    "### 2. Estimation de la variance des erreurs : MSE"
   ]
  },
  {
   "cell_type": "code",
   "execution_count": 16,
   "id": "01ec7f60-22a4-4ec8-81f6-1d64740cad47",
   "metadata": {},
   "outputs": [
    {
     "name": "stdout",
     "output_type": "stream",
     "text": [
      "MSE = 2.28333\n"
     ]
    }
   ],
   "source": [
    "MSE = SCE / (len(data) - 2)\n",
    "print(f'MSE = {MSE:.5f}')"
   ]
  },
  {
   "cell_type": "markdown",
   "id": "f5e06818-dc7f-473f-aca9-dda8c3c13cd5",
   "metadata": {},
   "source": [
    "Blabla, pk `n-2` ?"
   ]
  },
  {
   "cell_type": "markdown",
   "id": "59beecc1-45e4-40ca-ad63-7f4f635f9243",
   "metadata": {},
   "source": [
    "### 3. Écart-type des erreurs"
   ]
  },
  {
   "cell_type": "code",
   "execution_count": 17,
   "id": "b6b8e151-69a2-4366-b079-9dddc528d421",
   "metadata": {},
   "outputs": [
    {
     "name": "stdout",
     "output_type": "stream",
     "text": [
      "Écart-type des erreurs = 1.51107\n"
     ]
    }
   ],
   "source": [
    "s = np.sqrt(MSE)\n",
    "print(f'Écart-type des erreurs = {s:.5f}')"
   ]
  },
  {
   "cell_type": "markdown",
   "id": "5f4db53e-bbbd-4755-a06d-b75b95f0c685",
   "metadata": {},
   "source": [
    "### 4. Interprétation des Résultats\n",
    "\n",
    "blablabla"
   ]
  },
  {
   "cell_type": "markdown",
   "id": "ddcd24e4-ca3d-453c-8eeb-cc072054766b",
   "metadata": {},
   "source": [
    "## Partie 4 : Régression Linéaire Simple avec Tests Statistiques\n",
    "### 1. Estimation de la Variance des Erreurs"
   ]
  },
  {
   "cell_type": "markdown",
   "id": "d8f4fbe6-efbe-4429-a9f8-9ea93dc887a3",
   "metadata": {},
   "source": [
    "???"
   ]
  },
  {
   "cell_type": "markdown",
   "id": "aa08b54f-d625-492b-9da4-14c69ff5629d",
   "metadata": {},
   "source": [
    "### 2. Erreurs Standards des Coefficients"
   ]
  },
  {
   "cell_type": "code",
   "execution_count": 18,
   "id": "351ec5d5-b1e4-4721-ac38-b3efe8024dd0",
   "metadata": {},
   "outputs": [
    {
     "name": "stdout",
     "output_type": "stream",
     "text": [
      "SE_b1 = 0.28852\n"
     ]
    }
   ],
   "source": [
    "SE_b1 = s / np.sqrt(np.sum((data['x'] - x_mean) ** 2))\n",
    "print(f'SE_b1 = {SE_b1:.5f}')"
   ]
  },
  {
   "cell_type": "code",
   "execution_count": 19,
   "id": "7a921644-2332-4a6d-a256-5971b508f332",
   "metadata": {},
   "outputs": [
    {
     "name": "stdout",
     "output_type": "stream",
     "text": [
      "SE_b0 = 0.87242\n"
     ]
    }
   ],
   "source": [
    "SE_b0 = s * np.sqrt( (1 / len(data)) + (x_mean ** 2) / np.sum((data['x'] - x_mean) ** 2) )\n",
    "print(f'SE_b0 = {SE_b0:.5f}')"
   ]
  },
  {
   "cell_type": "markdown",
   "id": "6367434a-8200-436e-85eb-05c60a8781f4",
   "metadata": {},
   "source": [
    "### 3. Test d'Hypothèse pour la Pente (b₁)"
   ]
  },
  {
   "cell_type": "code",
   "execution_count": 20,
   "id": "c5cd5227-c009-483d-a1ca-128a70082428",
   "metadata": {},
   "outputs": [
    {
     "name": "stdout",
     "output_type": "stream",
     "text": [
      "t = -0.50544\n"
     ]
    }
   ],
   "source": [
    "t = b1 / SE_b1\n",
    "print(f't = {t:.5f}')"
   ]
  },
  {
   "cell_type": "markdown",
   "id": "e2a41245-27ae-473f-badb-4d99e2cc5533",
   "metadata": {},
   "source": [
    "# TODO"
   ]
  },
  {
   "cell_type": "markdown",
   "id": "740abb7f-556e-4d75-9538-eb68c9eecb50",
   "metadata": {},
   "source": [
    "## Partie 5 : Classification Ascendante Hiérarchique (CAH)\n",
    "### Question 1"
   ]
  },
  {
   "cell_type": "code",
   "execution_count": 137,
   "id": "87c0b79d-4838-4ff8-87f7-84718b4f0eb9",
   "metadata": {},
   "outputs": [],
   "source": [
    "def dist(i: pd.Series, j: pd.Series) -> np.float64:\n",
    "    '''Calcule la distance euclidienne séparant deux points'''\n",
    "    \n",
    "    return np.sqrt( (i[0] - j[0])**2 + (i[1] - j[1])**2 )"
   ]
  },
  {
   "cell_type": "code",
   "execution_count": 138,
   "id": "8e2a595d-15a7-421b-a5ec-d4265fda2ca8",
   "metadata": {},
   "outputs": [],
   "source": [
    "def dist1(i: pd.Series, j: pd.Series) -> np.float64:\n",
    "    ''' cc '''\n",
    "\n",
    "    return abs(i[0] - j[0]) + abs(i[1] - j[1])"
   ]
  },
  {
   "cell_type": "code",
   "execution_count": 139,
   "id": "f990308a-3fde-4038-9e71-df6a69ade1bd",
   "metadata": {},
   "outputs": [],
   "source": [
    "def dist_inf(i: pd.Series, j: pd.Series) -> np.float64:\n",
    "    ''' cc '''\n",
    "\n",
    "    return np.max((abs(i[0] - j[0]), abs(i[1] - j[1])))"
   ]
  },
  {
   "cell_type": "markdown",
   "id": "380f42cc-1e06-423a-aa5a-f68564c06b2d",
   "metadata": {},
   "source": [
    "Blabla\n",
    "\n",
    "### Question 2"
   ]
  },
  {
   "cell_type": "code",
   "execution_count": 140,
   "id": "031895d8-a49e-4fe1-a031-821703fa5eea",
   "metadata": {},
   "outputs": [],
   "source": [
    "def dist_min(t: pd.DataFrame, formula: Callable) -> tuple[pd.Series, pd.Series]:\n",
    "    '''blabla'''\n",
    "    \n",
    "    n = len(t)\n",
    "    indices = np.triu_indices(n, k=1)\n",
    "\n",
    "    acc = [\n",
    "        formula(t.loc[i], t.loc[j])\n",
    "        for (i, j)\n",
    "        in zip(*indices)\n",
    "    ]\n",
    "    \n",
    "    a = indices[0][np.argmin(acc)] \n",
    "    b = indices[1][np.argmin(acc)]\n",
    "    \n",
    "    return (t.loc[a], t.loc[b])"
   ]
  },
  {
   "cell_type": "markdown",
   "id": "c3c27634-f325-45a6-96d5-1a1eacaa8bdf",
   "metadata": {},
   "source": [
    "Blabla\n",
    "\n",
    "### Question 3"
   ]
  },
  {
   "cell_type": "code",
   "execution_count": 206,
   "id": "060b9b0b-4f50-4e09-bd33-f1a09793f651",
   "metadata": {},
   "outputs": [
    {
     "data": {
      "text/html": [
       "<div>\n",
       "<style scoped>\n",
       "    .dataframe tbody tr th:only-of-type {\n",
       "        vertical-align: middle;\n",
       "    }\n",
       "\n",
       "    .dataframe tbody tr th {\n",
       "        vertical-align: top;\n",
       "    }\n",
       "\n",
       "    .dataframe thead th {\n",
       "        text-align: right;\n",
       "    }\n",
       "</style>\n",
       "<table border=\"1\" class=\"dataframe\">\n",
       "  <thead>\n",
       "    <tr style=\"text-align: right;\">\n",
       "      <th></th>\n",
       "      <th>0</th>\n",
       "      <th>1</th>\n",
       "      <th>2</th>\n",
       "      <th>3</th>\n",
       "      <th>4</th>\n",
       "      <th>5</th>\n",
       "      <th>6</th>\n",
       "    </tr>\n",
       "  </thead>\n",
       "  <tbody>\n",
       "    <tr>\n",
       "      <th>0</th>\n",
       "      <td>0.0</td>\n",
       "      <td>1.0</td>\n",
       "      <td>16.0</td>\n",
       "      <td>13.0</td>\n",
       "      <td>13.0</td>\n",
       "      <td>26.0</td>\n",
       "      <td>10.0</td>\n",
       "    </tr>\n",
       "    <tr>\n",
       "      <th>1</th>\n",
       "      <td>1.0</td>\n",
       "      <td>0.0</td>\n",
       "      <td>9.0</td>\n",
       "      <td>8.0</td>\n",
       "      <td>10.0</td>\n",
       "      <td>25.0</td>\n",
       "      <td>5.0</td>\n",
       "    </tr>\n",
       "    <tr>\n",
       "      <th>2</th>\n",
       "      <td>16.0</td>\n",
       "      <td>9.0</td>\n",
       "      <td>0.0</td>\n",
       "      <td>5.0</td>\n",
       "      <td>13.0</td>\n",
       "      <td>34.0</td>\n",
       "      <td>2.0</td>\n",
       "    </tr>\n",
       "    <tr>\n",
       "      <th>3</th>\n",
       "      <td>13.0</td>\n",
       "      <td>8.0</td>\n",
       "      <td>5.0</td>\n",
       "      <td>0.0</td>\n",
       "      <td>2.0</td>\n",
       "      <td>13.0</td>\n",
       "      <td>9.0</td>\n",
       "    </tr>\n",
       "    <tr>\n",
       "      <th>4</th>\n",
       "      <td>13.0</td>\n",
       "      <td>10.0</td>\n",
       "      <td>13.0</td>\n",
       "      <td>2.0</td>\n",
       "      <td>0.0</td>\n",
       "      <td>5.0</td>\n",
       "      <td>17.0</td>\n",
       "    </tr>\n",
       "    <tr>\n",
       "      <th>5</th>\n",
       "      <td>26.0</td>\n",
       "      <td>25.0</td>\n",
       "      <td>34.0</td>\n",
       "      <td>13.0</td>\n",
       "      <td>5.0</td>\n",
       "      <td>0.0</td>\n",
       "      <td>40.0</td>\n",
       "    </tr>\n",
       "    <tr>\n",
       "      <th>6</th>\n",
       "      <td>10.0</td>\n",
       "      <td>5.0</td>\n",
       "      <td>2.0</td>\n",
       "      <td>9.0</td>\n",
       "      <td>17.0</td>\n",
       "      <td>40.0</td>\n",
       "      <td>0.0</td>\n",
       "    </tr>\n",
       "  </tbody>\n",
       "</table>\n",
       "</div>"
      ],
      "text/plain": [
       "      0     1     2     3     4     5     6\n",
       "0   0.0   1.0  16.0  13.0  13.0  26.0  10.0\n",
       "1   1.0   0.0   9.0   8.0  10.0  25.0   5.0\n",
       "2  16.0   9.0   0.0   5.0  13.0  34.0   2.0\n",
       "3  13.0   8.0   5.0   0.0   2.0  13.0   9.0\n",
       "4  13.0  10.0  13.0   2.0   0.0   5.0  17.0\n",
       "5  26.0  25.0  34.0  13.0   5.0   0.0  40.0\n",
       "6  10.0   5.0   2.0   9.0  17.0  40.0   0.0"
      ]
     },
     "execution_count": 206,
     "metadata": {},
     "output_type": "execute_result"
    }
   ],
   "source": [
    "mat = np.matrix([[dist(a, b)**2 for a in data.values] for b in data.values])\n",
    "pd.DataFrame(mat)"
   ]
  },
  {
   "cell_type": "markdown",
   "id": "afb519a6-c6da-4e0c-84fb-7f8af56333c7",
   "metadata": {},
   "source": [
    "We have the matrix  \n",
    "Let's check the closest coordinates"
   ]
  },
  {
   "cell_type": "code",
   "execution_count": 211,
   "id": "bc149c77-c293-4687-820e-dce2696a946b",
   "metadata": {},
   "outputs": [
    {
     "data": {
      "text/plain": [
       "(x    1\n",
       " y    1\n",
       " Name: 0, dtype: int64,\n",
       " x    1\n",
       " y    2\n",
       " Name: 1, dtype: int64)"
      ]
     },
     "execution_count": 211,
     "metadata": {},
     "output_type": "execute_result"
    }
   ],
   "source": [
    "masked = np.ma.masked_equal(mat, 0.0, copy=False)\n",
    "a, b = np.unravel_index(masked.argmin(), masked.shape)\n",
    "c1 = (data.iloc[a], data.iloc[b])\n",
    "c1"
   ]
  },
  {
   "cell_type": "markdown",
   "id": "141eee59-e848-4c1f-8810-2635c843291a",
   "metadata": {},
   "source": [
    "We see that thoses 2 points are the closest  \n",
    "Let's relate them on the graph"
   ]
  },
  {
   "cell_type": "code",
   "execution_count": 208,
   "id": "8d971678-f5f3-4903-907a-87e84dafac32",
   "metadata": {},
   "outputs": [
    {
     "data": {
      "image/png": "[encoded data removed]",
      "text/plain": [
       "<Figure size 640x480 with 1 Axes>"
      ]
     },
     "metadata": {},
     "output_type": "display_data"
    }
   ],
   "source": [
    "plt.scatter(data['x'], data['y'])\n",
    "\n",
    "plt.scatter(*data.iloc[a], color='red')\n",
    "plt.scatter(*data.iloc[b], color='red')\n",
    "plt.plot(data.iloc[a], data.iloc[b], color='red')\n",
    "\n",
    "plt.show()"
   ]
  },
  {
   "cell_type": "markdown",
   "id": "a7c87338-ebb6-4ce5-a3b3-ff82e4ba00d0",
   "metadata": {},
   "source": [
    "### Question 4 "
   ]
  },
  {
   "cell_type": "code",
   "execution_count": 218,
   "id": "3cfa5884-80ae-47e0-b9a1-341c78637a21",
   "metadata": {},
   "outputs": [
    {
     "data": {
      "text/plain": [
       "array([[1, 5],\n",
       "       [3, 4],\n",
       "       [4, 3],\n",
       "       [6, 2],\n",
       "       [0, 4]])"
      ]
     },
     "execution_count": 218,
     "metadata": {},
     "output_type": "execute_result"
    }
   ],
   "source": [
    "data2 = np.delete(data, (a, b), axis=0)\n",
    "data2"
   ]
  },
  {
   "cell_type": "code",
   "execution_count": 226,
   "id": "2f2a47f3-0554-4c89-9305-7f84efa8834d",
   "metadata": {},
   "outputs": [
    {
     "data": {
      "text/plain": [
       "'Unnamed: 0'"
      ]
     },
     "execution_count": 226,
     "metadata": {},
     "output_type": "execute_result"
    }
   ],
   "source": [
    "df = pd.read_excel('data.xlsx')\n",
    "df.columns[0]"
   ]
  },
  {
   "cell_type": "code",
   "execution_count": null,
   "id": "ade25854-4822-45c0-9c1e-f9157f097f9d",
   "metadata": {},
   "outputs": [],
   "source": []
  }
 ],
 "metadata": {
  "kernelspec": {
   "display_name": "Python 3 (ipykernel)",
   "language": "python",
   "name": "python3"
  },
  "language_info": {
   "codemirror_mode": {
    "name": "ipython",
    "version": 3
   },
   "file_extension": ".py",
   "mimetype": "text/x-python",
   "name": "python",
   "nbconvert_exporter": "python",
   "pygments_lexer": "ipython3",
   "version": "3.12.10"
  }
 },
 "nbformat": 4,
 "nbformat_minor": 5
}
